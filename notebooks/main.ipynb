{
 "cells": [
  {
   "cell_type": "code",
   "execution_count": null,
   "metadata": {},
   "outputs": [],
   "source": [
    "import sys\n",
    "import os\n",
    "\n",
    "#obtener la ruta absoluta del directorio raiz del proyecto\n",
    "sys.path.append(os.path.abspath(\"../src\"))"
   ]
  },
  {
   "cell_type": "code",
   "execution_count": null,
   "metadata": {},
   "outputs": [],
   "source": [
    "from src.procesar import procesar_ronda\n",
    "\n",
    "rounds = [\n",
    "{\n",
    "'Shadow': {'kills': 2, 'assists': 1, 'deaths': True},\n",
    "'Blaze': {'kills': 1, 'assists': 0, 'deaths': False},\n",
    "'Viper': {'kills': 1, 'assists': 2, 'deaths': True},\n",
    "'Frost': {'kills': 0, 'assists': 1, 'deaths': False},\n",
    "'Reaper': {'kills': 1, 'assists': 1, 'deaths': False}\n",
    "},\n",
    "{\n",
    "'Shadow': {'kills': 0, 'assists': 2, 'deaths': False},\n",
    "'Blaze': {'kills': 2, 'assists': 0, 'deaths': True},\n",
    "'Viper': {'kills': 1, 'assists': 1, 'deaths': False},\n",
    "'Frost': {'kills': 2, 'assists': 1, 'deaths': True},\n",
    "'Reaper': {'kills': 0, 'assists': 1, 'deaths': False}\n",
    "},\n",
    "{\n",
    "'Shadow': {'kills': 1, 'assists': 0, 'deaths': False},\n",
    "'Blaze': {'kills': 2, 'assists': 2, 'deaths': True},\n",
    "'Viper': {'kills': 1, 'assists': 1, 'deaths': True},\n",
    "'Frost': {'kills': 0, 'assists': 1, 'deaths': False},\n",
    "'Reaper': {'kills': 1, 'assists': 1, 'deaths': False}\n",
    "},\n",
    "{\n",
    "'Shadow': {'kills': 2, 'assists': 1, 'deaths': False},\n",
    "'Blaze': {'kills': 1, 'assists': 0, 'deaths': True},\n",
    "'Viper': {'kills': 0, 'assists': 2, 'deaths': False},\n",
    "'Frost': {'kills': 1, 'assists': 1, 'deaths': True},\n",
    "'Reaper': {'kills': 1, 'assists': 1, 'deaths': False}\n",
    "},\n",
    "{\n",
    "'Shadow': {'kills': 1, 'assists': 2, 'deaths': True},\n",
    "'Blaze': {'kills': 0, 'assists': 1, 'deaths': False},\n",
    "'Viper': {'kills': 2, 'assists': 0, 'deaths': True},\n",
    "'Frost': {'kills': 1, 'assists': 1, 'deaths': False},\n",
    "'Reaper': {'kills': 1, 'assists': 1, 'deaths': True}\n",
    "}\n",
    "]"
   ]
  },
  {
   "cell_type": "code",
   "execution_count": null,
   "metadata": {},
   "outputs": [],
   "source": [
    "ranking_final = {'Shadow': {'kills': 0, 'assists': 0, 'deaths': 0, 'mvps': 0, 'puntos': 0}, 'Blaze': {'kills': 0, 'assists': 0, 'deaths': 0, 'mvps': 0, 'puntos': 0}, 'Viper': {'kills': 0, 'assists': 0, 'deaths': 0, 'mvps': 0, 'puntos': 0}, 'Frost': {'kills': 0, 'assists': 0, 'deaths': 0, 'mvps': 0, 'puntos': 0}, 'Reaper': {'kills': 0, 'assists': 0, 'deaths': 0, 'mvps': 0, 'puntos': 0}}\n",
    "i = 0;\n",
    "for round in rounds:\n",
    "    print (\"Round\", i+1)\n",
    "    i += 1\n",
    "    sorted_round = procesar_ronda(round, ranking_final)\n",
    "    print (\"jugador           kills           assists           deaths           mvps           puntos\")\n",
    "    print (\"-------------------------------------------------------------------------------------------\")\n",
    "    for jugador, datos in sorted_round:\n",
    "        print (f\"{jugador:<16} {datos['kills']:<16} {datos['assists']:<16} {datos['deaths']:<16} {datos['mvps']:<16} {datos['puntos']}\")\n",
    "    print (\"ranking final\")\n",
    "    print (\"-------------------------------------------------------------------------------------------\")\n",
    "    for jugador, datos in sorted_round:\n",
    "        print (f\"{jugador:<16} {datos['kills']:<16} {datos['assists']:<16} {datos['deaths']:<16} {datos['mvps']:<16} {datos['puntos']}\")\n",
    "    print (\"-------------------------------------------------------------------------------------------\")\n",
    "\n",
    "    \n"
   ]
  }
 ],
 "metadata": {
  "kernelspec": {
   "display_name": "venv",
   "language": "python",
   "name": "python3"
  },
  "language_info": {
   "codemirror_mode": {
    "name": "ipython",
    "version": 3
   },
   "file_extension": ".py",
   "mimetype": "text/x-python",
   "name": "python",
   "nbconvert_exporter": "python",
   "pygments_lexer": "ipython3",
   "version": "3.12.9"
  }
 },
 "nbformat": 4,
 "nbformat_minor": 2
}
